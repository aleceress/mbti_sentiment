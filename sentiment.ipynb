{
 "cells": [
  {
   "cell_type": "code",
   "execution_count": 97,
   "metadata": {},
   "outputs": [],
   "source": [
    "from transformers import pipeline\n",
    "import mysql.connector\n",
    "import pandas as pd\n",
    "from tqdm import tqdm\n",
    "import nltk\n",
    "import pickle\n",
    "import matplotlib.pyplot as plt\n",
    "\n",
    "from config import *\n"
   ]
  },
  {
   "cell_type": "code",
   "execution_count": 3,
   "metadata": {},
   "outputs": [],
   "source": [
    "classifier = pipeline(\"text-classification\",\n",
    "                      model='bhadresh-savani/distilbert-base-uncased-emotion', top_k=None, truncation = True)\n"
   ]
  },
  {
   "cell_type": "code",
   "execution_count": 4,
   "metadata": {},
   "outputs": [],
   "source": [
    "reddit_db = mysql.connector.connect(\n",
    "    host=HOST, user=USER, password=PASSWORD, database=DATABASE_NAME\n",
    ")\n",
    "\n",
    "cursor = reddit_db.cursor()\n"
   ]
  },
  {
   "cell_type": "code",
   "execution_count": 5,
   "metadata": {},
   "outputs": [],
   "source": [
    "cursor.execute(\"select * from comments\")\n",
    "comments = cursor.fetchall()\n",
    "comments = pd.DataFrame(\n",
    "    comments, columns=[\"id\", \"comment_body\", \"post_id\",\n",
    "                       \"comment_timestamp\", \"parent_comment\"]\n",
    ").drop(columns=[\"comment_timestamp\"])\n"
   ]
  },
  {
   "cell_type": "code",
   "execution_count": 6,
   "metadata": {},
   "outputs": [],
   "source": [
    "cursor.execute(\"select * from posts\")\n",
    "posts = cursor.fetchall()\n",
    "posts = pd.DataFrame(\n",
    "    posts, columns=[\"post_id\", \"post_title\",\n",
    "                    \"post_body\", \"subreddit_name\", \"timestamp\"]\n",
    ").drop(columns=[\"timestamp\"])\n"
   ]
  },
  {
   "cell_type": "code",
   "execution_count": 38,
   "metadata": {},
   "outputs": [
    {
     "name": "stderr",
     "output_type": "stream",
     "text": [
      "100%|██████████| 55576/55576 [1:56:10<00:00,  7.97it/s]  \n"
     ]
    }
   ],
   "source": [
    "sentiment = dict()\n",
    "\n",
    "for i, post in tqdm(posts.iterrows(), total=len(posts)):\n",
    "    sentiment[post.post_id] = classifier(post.post_body)[0]"
   ]
  },
  {
   "cell_type": "code",
   "execution_count": 105,
   "metadata": {},
   "outputs": [
    {
     "name": "stderr",
     "output_type": "stream",
     "text": [
      "100%|██████████| 55576/55576 [00:00<00:00, 540441.39it/s]\n"
     ]
    },
    {
     "data": {
      "text/plain": [
       "<BarContainer object of 6 artists>"
      ]
     },
     "execution_count": 105,
     "metadata": {},
     "output_type": "execute_result"
    },
    {
     "data": {
      "image/png": "[encoded data removed]",
      "text/plain": [
       "<Figure size 640x480 with 1 Axes>"
      ]
     },
     "metadata": {},
     "output_type": "display_data"
    }
   ],
   "source": [
    "emotions_sum = dict({\"love\": 0, \"joy\": 0, \"anger\": 0, \"sadness\": 0, \"surprise\": 0, \"fear\": 0})\n",
    "\n",
    "for eval in tqdm(list(sentiment.values())):\n",
    "    for emotion in eval:\n",
    "        emotions_sum[emotion[\"label\"]] += emotion[\"score\"]\n",
    "\n",
    "emotions_avg = {k : emotions_sum[k]/len(posts) for k in emotions_sum}\n",
    "plt.bar(emotions_avg.keys(), emotions_avg.values())"
   ]
  }
 ],
 "metadata": {
  "kernelspec": {
   "display_name": "Python 3.10.6 ('venv': venv)",
   "language": "python",
   "name": "python3"
  },
  "language_info": {
   "codemirror_mode": {
    "name": "ipython",
    "version": 3
   },
   "file_extension": ".py",
   "mimetype": "text/x-python",
   "name": "python",
   "nbconvert_exporter": "python",
   "pygments_lexer": "ipython3",
   "version": "3.10.6"
  },
  "orig_nbformat": 4,
  "vscode": {
   "interpreter": {
    "hash": "0a8c952fdf01ac70ac0540b6160ae5835e1eb1a0ed2667a8aca94c41cb3d33e1"
   }
  }
 },
 "nbformat": 4,
 "nbformat_minor": 2
}
